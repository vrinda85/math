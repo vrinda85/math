{
 "cells": [
  {
   "cell_type": "markdown",
   "metadata": {},
   "source": [
    "<p style=\"font-family: Arial; font-size:3em;color:black;\"> Lab2, W1 </p>"
   ]
  },
  {
   "cell_type": "markdown",
   "metadata": {},
   "source": [
    "Students name in this Group: Daniyar Kurmanbayev,Purvi Jain,Rishabh Radhakrishnan,Vrinda Parameswaran"
   ]
  },
  {
   "cell_type": "code",
   "execution_count": 3,
   "metadata": {
    "scrolled": true
   },
   "outputs": [
    {
     "data": {
      "image/png": "[encoded data removed]",
      "text/plain": [
       "<Figure size 432x288 with 1 Axes>"
      ]
     },
     "metadata": {
      "needs_background": "light"
     },
     "output_type": "display_data"
    }
   ],
   "source": [
    "%matplotlib inline\n",
    "import numpy as np\n",
    "import matplotlib.pyplot as plt\n",
    "\n",
    "# # of hours a AI student spends on their courses in a month\n",
    "np.random.seed(10)\n",
    "no_hours = np.random.normal(40, 10, 10000)\n",
    "\n",
    "plt.hist(no_hours,50)\n",
    "plt.show()"
   ]
  },
  {
   "cell_type": "code",
   "execution_count": 4,
   "metadata": {},
   "outputs": [],
   "source": [
    "# Calculate and report the mean, std, and var of the data shown above.\n",
    "# What is the theoretical relationship between std and var? Do the numbers reperted in the previous step agree with your expectation?\n",
    "# Begin changing the different parameters on the normal function, discuss your observations as you change each input parameter."
   ]
  },
  {
   "cell_type": "code",
   "execution_count": 5,
   "metadata": {},
   "outputs": [
    {
     "name": "stdout",
     "output_type": "stream",
     "text": [
      "Mean of the no. of hours an AI student spends on their course in a month is: 40.05102056001915 hours\n"
     ]
    }
   ],
   "source": [
    "#Mean of the no. of hours AI student spends on their course in a month\n",
    "mean=np.mean(no_hours)\n",
    "print('Mean of the no. of hours an AI student spends on their course in a month is:', mean,'hours')\n"
   ]
  },
  {
   "cell_type": "code",
   "execution_count": 6,
   "metadata": {},
   "outputs": [
    {
     "name": "stdout",
     "output_type": "stream",
     "text": [
      "Standard Deviation of the data is: 9.896640127716951 hours\n"
     ]
    }
   ],
   "source": [
    "#Standard Deviation of the data is:\n",
    "standard_deviation=no_hours.std()\n",
    "print('Standard Deviation of the data is:', standard_deviation,'hours')"
   ]
  },
  {
   "cell_type": "code",
   "execution_count": 7,
   "metadata": {},
   "outputs": [],
   "source": [
    "#To calculate variance import it from statistics\n",
    "from statistics import variance"
   ]
  },
  {
   "cell_type": "code",
   "execution_count": 8,
   "metadata": {},
   "outputs": [
    {
     "name": "stdout",
     "output_type": "stream",
     "text": [
      "Variance of the data is: 97.95328114565193\n"
     ]
    }
   ],
   "source": [
    "#Variance of the data is:\n",
    "var=variance(no_hours)\n",
    "print('Variance of the data is:', var)"
   ]
  },
  {
   "cell_type": "code",
   "execution_count": 9,
   "metadata": {},
   "outputs": [
    {
     "name": "stdout",
     "output_type": "stream",
     "text": [
      "Theoretically standard deviation is 9.89713499683883 which is almost equal to the above observed value\n"
     ]
    }
   ],
   "source": [
    "#Theoretically standard deviation is the square root of variance.So lets check it out: for that import math\n",
    "import math\n",
    "standard=math.sqrt(var)\n",
    "print('Theoretically standard deviation is', standard,'which is almost equal to the above observed value')\n"
   ]
  },
  {
   "cell_type": "markdown",
   "metadata": {},
   "source": []
  },
  {
   "cell_type": "code",
   "execution_count": 10,
   "metadata": {},
   "outputs": [
    {
     "data": {
      "image/png": "[encoded data removed]",
      "text/plain": [
       "<Figure size 432x288 with 1 Axes>"
      ]
     },
     "metadata": {
      "needs_background": "light"
     },
     "output_type": "display_data"
    }
   ],
   "source": [
    "#Making first parameter as 100\n",
    "np.random.seed(10)\n",
    "no_hours = np.random.normal(100, 10, 10000)\n",
    "\n",
    "plt.hist(no_hours,50)\n",
    "plt.show()"
   ]
  },
  {
   "cell_type": "code",
   "execution_count": 11,
   "metadata": {},
   "outputs": [
    {
     "data": {
      "text/plain": [
       "'When the first parameter is changed the graph shifts around that value while standard deviation \\nand variance remain same i.e the Mean of the no. of hours an AI student spends on their course \\nin a month is almost equal to the first parameter\\n'"
      ]
     },
     "execution_count": 11,
     "metadata": {},
     "output_type": "execute_result"
    }
   ],
   "source": [
    "'''When the first parameter is changed the graph shifts around that value while standard deviation \n",
    "and variance remain same i.e the Mean of the no. of hours an AI student spends on their course \n",
    "in a month is almost equal to the first parameter\n",
    "'''"
   ]
  },
  {
   "cell_type": "code",
   "execution_count": 12,
   "metadata": {},
   "outputs": [
    {
     "data": {
      "image/png": "[encoded data removed]",
      "text/plain": [
       "<Figure size 432x288 with 1 Axes>"
      ]
     },
     "metadata": {
      "needs_background": "light"
     },
     "output_type": "display_data"
    }
   ],
   "source": [
    "#Making second parameter as 1\n",
    "np.random.seed(10)\n",
    "no_hours = np.random.normal(40, 1, 10000)\n",
    "\n",
    "plt.hist(no_hours,50)\n",
    "plt.show()"
   ]
  },
  {
   "cell_type": "code",
   "execution_count": 13,
   "metadata": {},
   "outputs": [
    {
     "data": {
      "text/plain": [
       "'As the second parameter is reduced drastically, both standard deviation and variance changes\\nmaking the graph shrink towards mean i.e maximum students are spending hours on their course around mean hours \\nand vice versa the graph spreads if this parameter is increased leading to the fact that not all students\\nare studying around their mean hours'"
      ]
     },
     "execution_count": 13,
     "metadata": {},
     "output_type": "execute_result"
    }
   ],
   "source": [
    "'''As the second parameter is reduced drastically, both standard deviation and variance changes\n",
    "making the graph shrink towards mean i.e maximum students are spending hours on their course around mean hours \n",
    "and vice versa the graph spreads if this parameter is increased leading to the fact that not all students\n",
    "are studying around their mean hours'''"
   ]
  },
  {
   "cell_type": "code",
   "execution_count": 14,
   "metadata": {},
   "outputs": [
    {
     "data": {
      "image/png": "[encoded data removed]",
      "text/plain": [
       "<Figure size 432x288 with 1 Axes>"
      ]
     },
     "metadata": {
      "needs_background": "light"
     },
     "output_type": "display_data"
    }
   ],
   "source": [
    "#Making third parameter as 100\n",
    "np.random.seed(10)\n",
    "no_hours = np.random.normal(40, 10, 100)\n",
    "\n",
    "plt.hist(no_hours,100)\n",
    "plt.show()"
   ]
  },
  {
   "cell_type": "code",
   "execution_count": null,
   "metadata": {},
   "outputs": [],
   "source": [
    "'''As the last parameter is decreased to a large extent it no longer remains bell function while if it is increased\n",
    "then it become more and more smooth bell function '''"
   ]
  }
 ],
 "metadata": {
  "kernelspec": {
   "display_name": "Python 3",
   "language": "python",
   "name": "python3"
  },
  "language_info": {
   "codemirror_mode": {
    "name": "ipython",
    "version": 3
   },
   "file_extension": ".py",
   "mimetype": "text/x-python",
   "name": "python",
   "nbconvert_exporter": "python",
   "pygments_lexer": "ipython3",
   "version": "3.8.8"
  }
 },
 "nbformat": 4,
 "nbformat_minor": 1
}
