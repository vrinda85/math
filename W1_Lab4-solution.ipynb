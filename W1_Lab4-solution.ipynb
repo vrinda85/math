{
 "cells": [
  {
   "cell_type": "markdown",
   "metadata": {
    "pycharm": {
     "name": "#%% md\n"
    }
   },
   "source": [
    "# Labs week 2"
   ]
  },
  {
   "cell_type": "markdown",
   "metadata": {
    "pycharm": {
     "name": "#%% md\n"
    }
   },
   "source": [
    "Students:\n",
    "* Daniyar Kurmanbayev\n",
    "* Purvi Jain\n",
    "* Rishabh Radhakrishnan\n",
    "* Vrinda Parameswaran"
   ]
  },
  {
   "cell_type": "markdown",
   "metadata": {},
   "source": [
    "### Exercise 1:\n",
    "1. Using numpy arrays and slicing operations (:), define and print the following A, B, and C matrix:"
   ]
  },
  {
   "cell_type": "code",
   "execution_count": 20,
   "metadata": {
    "pycharm": {
     "name": "#%%\n"
    }
   },
   "outputs": [],
   "source": [
    "import numpy as np"
   ]
  },
  {
   "cell_type": "code",
   "execution_count": 21,
   "metadata": {
    "pycharm": {
     "name": "#%%\n"
    }
   },
   "outputs": [
    {
     "data": {
      "text/plain": "(array([[5, 2, 3],\n        [6, 1, 3],\n        [2, 4, 1]]),\n array([[5, 2, 3],\n        [6, 1, 3],\n        [2, 4, 1]]),\n array([[5, 2, 3],\n        [6, 1, 3],\n        [2, 4, 1]]))"
     },
     "execution_count": 21,
     "metadata": {},
     "output_type": "execute_result"
    }
   ],
   "source": [
    "A = np.array([[5, 2, 3],\n",
    "              [6, 1, 3],\n",
    "              [2, 4, 1]])\n",
    "\n",
    "B = np.array([[5, 2, 3],\n",
    "              [6, 1, 3],\n",
    "              [2, 4, 1]])\n",
    "\n",
    "C = np.array([[5, 2, 3],\n",
    "              [6, 1, 3],\n",
    "              [2, 4, 1]])\n",
    "\n",
    "A, B , C"
   ]
  },
  {
   "cell_type": "markdown",
   "metadata": {
    "pycharm": {
     "name": "#%% md\n"
    }
   },
   "source": [
    "2. Define D matrix using numpy:"
   ]
  },
  {
   "cell_type": "code",
   "execution_count": 22,
   "metadata": {
    "pycharm": {
     "name": "#%%\n"
    }
   },
   "outputs": [
    {
     "data": {
      "text/plain": "array([[ 4, -7,  4],\n       [ 5,  6, -1],\n       [-4,  2,  5]])"
     },
     "execution_count": 22,
     "metadata": {},
     "output_type": "execute_result"
    }
   ],
   "source": [
    "D = np.array([[4, -7, 4],\n",
    "              [5, 6, -1],\n",
    "              [-4, 2, 5]])\n",
    "\n",
    "D"
   ]
  },
  {
   "cell_type": "markdown",
   "metadata": {
    "pycharm": {
     "name": "#%% md\n"
    }
   },
   "source": [
    "3. Use numpy matmul to calculate AD and also DA. Are they equal?"
   ]
  },
  {
   "cell_type": "code",
   "execution_count": 23,
   "metadata": {
    "pycharm": {
     "name": "#%%\n"
    }
   },
   "outputs": [
    {
     "data": {
      "text/plain": "array([[ 18, -17,  33],\n       [ 17, -30,  38],\n       [ 24,  12,   9]])"
     },
     "execution_count": 23,
     "metadata": {},
     "output_type": "execute_result"
    }
   ],
   "source": [
    "AD = np.matmul(A, D)\n",
    "AD"
   ]
  },
  {
   "cell_type": "code",
   "execution_count": 24,
   "metadata": {
    "pycharm": {
     "name": "#%%\n"
    }
   },
   "outputs": [
    {
     "data": {
      "text/plain": "array([[-14,  17,  -5],\n       [ 59,  12,  32],\n       [  2,  14,  -1]])"
     },
     "execution_count": 24,
     "metadata": {},
     "output_type": "execute_result"
    }
   ],
   "source": [
    "DA = np.matmul(D, A)\n",
    "DA"
   ]
  },
  {
   "cell_type": "code",
   "execution_count": 25,
   "metadata": {
    "pycharm": {
     "name": "#%%\n"
    }
   },
   "outputs": [
    {
     "name": "stdout",
     "output_type": "stream",
     "text": [
      "AD is not equal to DA\n"
     ]
    }
   ],
   "source": [
    "is_equal = not (AD == DA).__contains__(False)\n",
    "print(f'AD is {\"\" if is_equal else \"not\"} equal to DA')"
   ]
  },
  {
   "cell_type": "markdown",
   "metadata": {
    "pycharm": {
     "name": "#%% md\n"
    }
   },
   "source": [
    "4. Manually calculate the determinant and inverse of B. Use numpy to calculate the same entities and confirm that your manual calculation agrees with your results from the jupyter notebook."
   ]
  },
  {
   "cell_type": "code",
   "execution_count": 26,
   "metadata": {
    "pycharm": {
     "name": "#%%\n"
    }
   },
   "outputs": [
    {
     "data": {
      "text/plain": "array([[5, 2, 3],\n       [6, 1, 3],\n       [2, 4, 1]])"
     },
     "execution_count": 26,
     "metadata": {},
     "output_type": "execute_result"
    }
   ],
   "source": [
    "B"
   ]
  },
  {
   "cell_type": "code",
   "execution_count": 27,
   "metadata": {
    "pycharm": {
     "name": "#%%\n"
    }
   },
   "outputs": [],
   "source": [
    "M11 = (1 * 1) - (3 * 4)\n",
    "M12 = (6 * 1) - (3 * 2)\n",
    "M13 = (6 * 4) - (1 * 2)\n",
    "M21 = (2 * 1) - (3 * 4)\n",
    "M22 = (5 * 1) - (3 * 2)\n",
    "M23 = (5 * 4) - (2 * 2)\n",
    "M31 = (2 * 3) - (3 * 1)\n",
    "M32 = (5 * 3) - (3 * 6)\n",
    "M33 = (5 * 1) - (2 * 6)"
   ]
  },
  {
   "cell_type": "code",
   "execution_count": 28,
   "metadata": {
    "pycharm": {
     "name": "#%%\n"
    }
   },
   "outputs": [
    {
     "data": {
      "text/plain": "11"
     },
     "execution_count": 28,
     "metadata": {},
     "output_type": "execute_result"
    }
   ],
   "source": [
    "my_determinant = (5 * M11) - (2 * M12) + (3 * M13)\n",
    "my_determinant"
   ]
  },
  {
   "cell_type": "code",
   "execution_count": 29,
   "metadata": {},
   "outputs": [
    {
     "data": {
      "text/plain": "[[-11, 0, 22], [10, -1, -16], [3, 3, -7]]"
     },
     "execution_count": 29,
     "metadata": {},
     "output_type": "execute_result"
    }
   ],
   "source": [
    "cofactors_matrix=[[M11,-M12,M13],\n",
    "                 [-M21,M22,-M23],\n",
    "                  [M31,-M32,M33]]\n",
    "cofactors_matrix"
   ]
  },
  {
   "cell_type": "code",
   "execution_count": 30,
   "metadata": {},
   "outputs": [
    {
     "data": {
      "text/plain": "array([[-11,  10,   3],\n       [  0,  -1,   3],\n       [ 22, -16,  -7]])"
     },
     "execution_count": 30,
     "metadata": {},
     "output_type": "execute_result"
    }
   ],
   "source": [
    "adjugate_matrix=[[M11,-M21,M31],\n",
    "                [-M12,M22,-M32],\n",
    "                [M13,-M23,M33]]\n",
    "adjugate_mat=np.array(adjugate_matrix)\n",
    "adjugate_mat"
   ]
  },
  {
   "cell_type": "code",
   "execution_count": 31,
   "metadata": {
    "pycharm": {
     "name": "#%%\n"
    }
   },
   "outputs": [
    {
     "data": {
      "text/plain": "array([[-1.        ,  0.90909091,  0.27272727],\n       [ 0.        , -0.09090909,  0.27272727],\n       [ 2.        , -1.45454545, -0.63636364]])"
     },
     "execution_count": 31,
     "metadata": {},
     "output_type": "execute_result"
    }
   ],
   "source": [
    "B_inverse_matrix=(1/my_determinant)*adjugate_mat\n",
    "B_inverse_matrix"
   ]
  },
  {
   "cell_type": "code",
   "execution_count": 32,
   "outputs": [
    {
     "data": {
      "text/plain": "11.000000000000002"
     },
     "execution_count": 32,
     "metadata": {},
     "output_type": "execute_result"
    }
   ],
   "source": [
    "np_determinant = np.linalg.det(B)\n",
    "np_determinant"
   ],
   "metadata": {
    "collapsed": false,
    "pycharm": {
     "name": "#%%\n"
    }
   }
  },
  {
   "cell_type": "code",
   "execution_count": 33,
   "metadata": {
    "pycharm": {
     "name": "#%%\n"
    }
   },
   "outputs": [
    {
     "data": {
      "text/plain": "array([[-1.        ,  0.90909091,  0.27272727],\n       [ 0.        , -0.09090909,  0.27272727],\n       [ 2.        , -1.45454545, -0.63636364]])"
     },
     "execution_count": 33,
     "metadata": {},
     "output_type": "execute_result"
    }
   ],
   "source": [
    "np_inverse = np.linalg.inv(B)\n",
    "np_inverse"
   ]
  },
  {
   "cell_type": "code",
   "execution_count": 34,
   "metadata": {},
   "outputs": [],
   "source": [
    "# Manual calculated B Inverse agrees with the results from the jupyter notebook."
   ]
  },
  {
   "cell_type": "markdown",
   "metadata": {
    "pycharm": {
     "name": "#%% md\n"
    }
   },
   "source": [
    "5. Use numpy to calculate the inverse of D. Confirm that 〖DD〗^(-1) and D^(-1) D both are 3-by-3 identity matrices. Do you have any observations?"
   ]
  },
  {
   "cell_type": "code",
   "execution_count": 35,
   "metadata": {
    "pycharm": {
     "name": "#%%\n"
    }
   },
   "outputs": [
    {
     "data": {
      "text/plain": "array([[ True,  True,  True],\n       [ True,  True,  True],\n       [ True,  True,  True]])"
     },
     "execution_count": 35,
     "metadata": {},
     "output_type": "execute_result"
    }
   ],
   "source": [
    "D_inverse = np.linalg.inv(D)\n",
    "DDi = D * D_inverse\n",
    "DiD = D_inverse * D\n",
    "\n",
    "DDi == DiD"
   ]
  },
  {
   "cell_type": "markdown",
   "metadata": {
    "pycharm": {
     "name": "#%% md\n"
    }
   },
   "source": [
    "### Exercise 2:\n",
    "1. Calculate the bag of words (without TF-IDF, just word counts) matrix for the following 5 phrases:\n",
    "    * college student\n",
    "    * airport taxi driver\n",
    "    * Toronto art museum\n",
    "    * life art\n",
    "    * machine learning student\n",
    "\n",
    "Hints: How many rows should be there? How many columns should be there?"
   ]
  },
  {
   "cell_type": "code",
   "execution_count": 36,
   "metadata": {
    "pycharm": {
     "name": "#%%\n"
    }
   },
   "outputs": [],
   "source": [
    "def bag_of_words(sent, vocab_length, word_to_index):\n",
    "    words = []\n",
    "    rep = np.zeros(vocab_length)\n",
    "    for w in sent:\n",
    "        if w not in words:\n",
    "            ind=word_to_index[w]\n",
    "            rep[ind]+=1\n",
    "            words.append(w)\n",
    "    return rep"
   ]
  },
  {
   "cell_type": "code",
   "execution_count": 37,
   "metadata": {
    "pycharm": {
     "name": "#%%\n"
    }
   },
   "outputs": [
    {
     "data": {
      "text/plain": "[[0, 0, 1, 0, 0, 0, 0, 0, 0, 0, 1],\n [0, 1, 0, 1, 0, 1, 0, 0, 0, 0, 0],\n [0, 0, 0, 0, 0, 0, 1, 0, 1, 0, 0],\n [1, 0, 0, 0, 0, 0, 0, 0, 1, 0, 0],\n [0, 0, 1, 0, 1, 0, 0, 0, 0, 1, 0]]"
     },
     "execution_count": 37,
     "metadata": {},
     "output_type": "execute_result"
    }
   ],
   "source": [
    "phrases = ['college student', 'airport taxi driver', 'Toronto art museum', 'life art', 'machine learning student']\n",
    "words = {word.lower() for phrase in phrases for word in phrase.split(' ')}\n",
    "\n",
    "bows = [[int(phrase.__contains__(word)) for word in words] for phrase in phrases]\n",
    "bows"
   ]
  },
  {
   "cell_type": "markdown",
   "metadata": {
    "pycharm": {
     "name": "#%% md\n"
    }
   },
   "source": [
    "2. Calculate the IDF for the words “college” and “art”."
   ]
  },
  {
   "cell_type": "code",
   "execution_count": 38,
   "metadata": {
    "pycharm": {
     "name": "#%%\n"
    }
   },
   "outputs": [
    {
     "data": {
      "text/plain": "1.6094379124341003"
     },
     "execution_count": 38,
     "metadata": {},
     "output_type": "execute_result"
    }
   ],
   "source": [
    "phrases_college = [phrase.__contains__('college') for phrase in phrases].count(True)\n",
    "IDF_college = np.log(len(phrases) / phrases_college)\n",
    "IDF_college"
   ]
  },
  {
   "cell_type": "code",
   "execution_count": 39,
   "metadata": {
    "pycharm": {
     "name": "#%%\n"
    }
   },
   "outputs": [
    {
     "data": {
      "text/plain": "0.9162907318741551"
     },
     "execution_count": 39,
     "metadata": {},
     "output_type": "execute_result"
    }
   ],
   "source": [
    "phrases_art = [phrase.__contains__('art') for phrase in phrases].count(True)\n",
    "IDF_art = np.log(len(phrases) / phrases_art)\n",
    "IDF_art\n"
   ]
  }
 ],
 "metadata": {
  "kernelspec": {
   "display_name": "Python 3",
   "language": "python",
   "name": "python3"
  },
  "language_info": {
   "codemirror_mode": {
    "name": "ipython",
    "version": 3
   },
   "file_extension": ".py",
   "mimetype": "text/x-python",
   "name": "python",
   "nbconvert_exporter": "python",
   "pygments_lexer": "ipython3",
   "version": "3.8.8"
  }
 },
 "nbformat": 4,
 "nbformat_minor": 1
}