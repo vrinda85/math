{
 "cells": [
  {
   "cell_type": "markdown",
   "metadata": {},
   "source": [
    "<p style=\"font-family: Arial; font-size:3em;color:black;\"> W1, Lab3 </p>"
   ]
  },
  {
   "cell_type": "markdown",
   "metadata": {},
   "source": [
    "The process below shows how to implement a simple linear regression analysis for a vehicle pricing scenario. Re-run it and take note of the R-sqaured value. Then. change the std value in np.random.normal to 1, 5 and 10. Observe the change in R-sqaured. How do you explain the change in R-sqaured value?"
   ]
  },
  {
   "cell_type": "code",
   "execution_count": 1,
   "metadata": {},
   "outputs": [
    {
     "data": {
      "text/plain": [
       "<matplotlib.collections.PathCollection at 0x2e7b03ac4f0>"
      ]
     },
     "execution_count": 1,
     "metadata": {},
     "output_type": "execute_result"
    },
    {
     "data": {
      "image/png": "[encoded data removed]",
      "text/plain": [
       "<Figure size 432x288 with 1 Axes>"
      ]
     },
     "metadata": {
      "needs_background": "light"
     },
     "output_type": "display_data"
    }
   ],
   "source": [
    "%matplotlib inline\n",
    "import numpy as np\n",
    "import matplotlib.pyplot as plt\n",
    "from sklearn.linear_model import LinearRegression\n",
    "\n",
    "vehicle_age = np.random.uniform(0,10,1000)\n",
    "vehicle_price = 70000 - (vehicle_age + np.random.normal(0, 1, 1000)) * 3000\n",
    "\n",
    "vehicle_age = vehicle_age.reshape(-1, 1)\n",
    "vehicle_price = vehicle_price.reshape(-1, 1)\n",
    "\n",
    "plt.scatter(vehicle_age, vehicle_price)\n",
    "\n"
   ]
  },
  {
   "cell_type": "markdown",
   "metadata": {},
   "source": [
    "experiment 1 on keeping the standard deviation (sd) as 1 in np.random.normal(m, sd, N)"
   ]
  },
  {
   "cell_type": "code",
   "execution_count": 42,
   "metadata": {},
   "outputs": [
    {
     "name": "stdout",
     "output_type": "stream",
     "text": [
      "Min of vehicle price : 35346.93816181487 Max of vehicle price : 75827.29589004573 Mean of Vehicle price : 55158.50956608969\n",
      "R-Squared value with sd as 1 : 0.8939208075957863\n"
     ]
    }
   ],
   "source": [
    "from sklearn.linear_model import LinearRegression \n",
    "from sklearn.metrics import r2_score \n",
    "from sklearn.model_selection import train_test_split\n",
    "\n",
    "#defining model\n",
    "lm = LinearRegression(fit_intercept=True)\n",
    "#defining vehicle age calling random numbers from a uniform distribution\n",
    "vehicle_age = np.random.uniform(0,10,1000)\n",
    "#defining vehicle price using a random numbers generated from a normal distribution\n",
    "vehicle_price = 70000 - (vehicle_age + np.random.normal(0, 1, 1000)) * 3000\n",
    "vehicle_age = vehicle_age.reshape(-1, 1)\n",
    "vehicle_price = vehicle_price.reshape(-1, 1)\n",
    "print('Min of vehicle price :' , vehicle_price.min() , 'Max of vehicle price :', vehicle_price.max(),'Mean of Vehicle price :', vehicle_price.mean())\n",
    "\n",
    "X_train, X_test, y_train, y_test = train_test_split(vehicle_age, vehicle_price, test_size=0.3, random_state=101)\n",
    "\n",
    "lm.fit(X_train, y_train) \n",
    "ypred = lm.predict(X_test)\n",
    "ypred\n",
    "\n",
    "rsquare_1 = r2_score(y_test, ypred)\n",
    "print('R-Squared value with sd as 1 :', rsquare_1)"
   ]
  },
  {
   "cell_type": "markdown",
   "metadata": {},
   "source": [
    "\n",
    "experiment 2 on pushing the standard deviation (sd) to 5 in np.random.normal(m, sd, N)"
   ]
  },
  {
   "cell_type": "code",
   "execution_count": 44,
   "metadata": {},
   "outputs": [
    {
     "name": "stdout",
     "output_type": "stream",
     "text": [
      "Min of vehicle price : 4845.19292592282 Max of vehicle price : 109680.9542124676 Mean of Vehicle price : 55152.71159012698\n",
      "R-Squared value with sd as 5 : 0.2783242483341206\n"
     ]
    }
   ],
   "source": [
    "vehicle_age = np.random.uniform(0,10,1000)\n",
    "#defining vehicle price using a random numbers generated from a normal distribution\n",
    "vehicle_price = 70000 - (vehicle_age + np.random.normal(0, 5, 1000)) * 3000\n",
    "vehicle_age = vehicle_age.reshape(-1, 1)\n",
    "vehicle_price = vehicle_price.reshape(-1, 1)\n",
    "print('Min of vehicle price :' , vehicle_price.min() , 'Max of vehicle price :', vehicle_price.max(),'Mean of Vehicle price :', vehicle_price.mean())\n",
    "\n",
    "X_train, X_test, y_train, y_test = train_test_split(vehicle_age, vehicle_price, test_size=0.3, random_state=101)\n",
    "\n",
    "lm.fit(X_train, y_train) \n",
    "ypred = lm.predict(X_test)\n",
    "ypred\n",
    "\n",
    "rsquare_1 = r2_score(y_test, ypred)\n",
    "print('R-Squared value with sd as 5 :', rsquare_1)"
   ]
  },
  {
   "cell_type": "markdown",
   "metadata": {},
   "source": [
    "experiment 3 on pushing the standard deviation (sd) to 10 in np.random.normal(m, sd, N)"
   ]
  },
  {
   "cell_type": "code",
   "execution_count": 48,
   "metadata": {},
   "outputs": [
    {
     "name": "stdout",
     "output_type": "stream",
     "text": [
      "Min of vehicle price : -34191.343204217395 Max of vehicle price : 157506.121829378 Mean of Vehicle price : 54857.671353251455\n",
      "R-Squared value with sd as 10 : 0.09172582220630099\n"
     ]
    }
   ],
   "source": [
    "vehicle_age = np.random.uniform(0,10,1000)\n",
    "#defining vehicle price using a random numbers generated from a normal distribution\n",
    "vehicle_price = 70000 - (vehicle_age + np.random.normal(0, 10, 1000)) * 3000\n",
    "vehicle_age = vehicle_age.reshape(-1, 1)\n",
    "vehicle_price = vehicle_price.reshape(-1, 1)\n",
    "print('Min of vehicle price :' , vehicle_price.min() , 'Max of vehicle price :', vehicle_price.max(),'Mean of Vehicle price :', vehicle_price.mean())\n",
    "\n",
    "X_train, X_test, y_train, y_test = train_test_split(vehicle_age, vehicle_price, test_size=0.3, random_state=101)\n",
    "\n",
    "lm.fit(X_train, y_train) \n",
    "ypred = lm.predict(X_test)\n",
    "ypred\n",
    "\n",
    "rsquare_1 = r2_score(y_test, ypred)\n",
    "print('R-Squared value with sd as 10 :', rsquare_1)"
   ]
  },
  {
   "cell_type": "markdown",
   "metadata": {},
   "source": [
    "# ANSWER: "
   ]
  },
  {
   "cell_type": "markdown",
   "metadata": {},
   "source": [
    "From the experiments above we can understand that the model performs very poorly if the values in predictor label is spread out a long distance from the mean value.As the values in the y-label have almost the same mean ~55000 across all the 3 experiments, the model fits better on a set where the space between the mean(y) and the other values of y is very less."
   ]
  }
 ],
 "metadata": {
  "kernelspec": {
   "display_name": "Python 3",
   "language": "python",
   "name": "python3"
  },
  "language_info": {
   "codemirror_mode": {
    "name": "ipython",
    "version": 3
   },
   "file_extension": ".py",
   "mimetype": "text/x-python",
   "name": "python",
   "nbconvert_exporter": "python",
   "pygments_lexer": "ipython3",
   "version": "3.8.8"
  }
 },
 "nbformat": 4,
 "nbformat_minor": 1
}
